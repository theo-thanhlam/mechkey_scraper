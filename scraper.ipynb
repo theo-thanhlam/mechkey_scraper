{
 "cells": [
  {
   "cell_type": "code",
   "execution_count": 5,
   "metadata": {},
   "outputs": [],
   "source": [
    "# ! pip install beautifulsoup4\n",
    "# ! pip install requests\n",
    "# ! pip install pandas"
   ]
  },
  {
   "attachments": {},
   "cell_type": "markdown",
   "metadata": {},
   "source": [
    "Update:\n",
    "+ Finish scrap the product listing page\n",
    "+ Know where to find the SKU \n",
    "+ Need to scrap available switches and price of each product"
   ]
  },
  {
   "cell_type": "code",
   "execution_count": 6,
   "metadata": {},
   "outputs": [],
   "source": [
    "from bs4 import BeautifulSoup\n",
    "import requests\n",
    "import pandas as pd\n",
    "import json\n",
    "# page_no = 1\n",
    "# url_link = \"https://mechanicalkeyboards.com/shop/index.php?pg=\"+str(page_no)+\"&l=product_list&c=1&show=100\""
   ]
  },
  {
   "attachments": {},
   "cell_type": "markdown",
   "metadata": {},
   "source": [
    "# Shop listing page"
   ]
  },
  {
   "cell_type": "code",
   "execution_count": 7,
   "metadata": {},
   "outputs": [],
   "source": [
    "def get_soup(url_link):\n",
    "    return BeautifulSoup(requests.get(url_link).text, 'html.parser')\n"
   ]
  },
  {
   "cell_type": "code",
   "execution_count": 8,
   "metadata": {},
   "outputs": [],
   "source": [
    "def get_number_of_page():\n",
    "    soup = get_soup(\"https://mechanicalkeyboards.com/shop/index.php?pg=1&l=product_list&c=1&show=100\")\n",
    "    no_page = soup.select_one('div.blog-pagination span')\n",
    "    return no_page.text.split()[-1]\n",
    "\n"
   ]
  },
  {
   "cell_type": "code",
   "execution_count": 9,
   "metadata": {},
   "outputs": [],
   "source": [
    "PRODUCT_SOUP_TAG = \"div.product-name a\"\n",
    "IMAGE_URL_TAG = 'div.imagebox li a img'\n",
    "\n",
    "product_name_list = []\n",
    "product_url_list = []\n",
    "product_img_url_list = []\n",
    "\n",
    "#Get the last page of website (APPLY FOR THIS URL ONLY)\n",
    "#\"https://mechanicalkeyboards.com/shop/index.php?pg=1&l=product_list&c=1&show=100\"\n",
    "no_page = int(get_number_of_page())\n",
    "\n",
    "for i in range(1,no_page+1):\n",
    "        url_link = \"https://mechanicalkeyboards.com/shop/index.php?pg=\"+str(i)+\"&l=product_list&c=1&show=100\"\n",
    "        product_list_soup = get_soup(url_link)\n",
    "        product_soup = product_list_soup.select(PRODUCT_SOUP_TAG)\n",
    "        image_link = product_list_soup.select(IMAGE_URL_TAG)\n",
    "        for (name,url) in zip(product_soup, image_link):\n",
    "                #Get element\n",
    "                product_name = name.text\n",
    "                product_url = name['href']\n",
    "                full_image_url = \"https://mechanicalkeyboards.com/shop/\" + url['src']\n",
    "                \n",
    "                #Add to list\n",
    "                product_name_list.append(product_name)\n",
    "                product_url_list.append(product_url)\n",
    "                product_img_url_list.append(full_image_url)\n",
    "\n"
   ]
  },
  {
   "attachments": {},
   "cell_type": "markdown",
   "metadata": {},
   "source": [
    "# Product Detail Page\n"
   ]
  },
  {
   "cell_type": "code",
   "execution_count": 98,
   "metadata": {},
   "outputs": [],
   "source": [
    "def get_switch_table(soup):\n",
    "    switch_price_dict = {\n",
    "    \"switch\":{}\n",
    "    }\n",
    "    \n",
    "    switch_table = soup.find('table', class_='edition_switch_list')\n",
    "    switch_type = switch_table.find_all(\"td\", class_='switch')\n",
    "    switch_price= switch_table.find_all(\"td\", class_='price')\n",
    "\n",
    "    # switch_price['sku'] = sku.text\n",
    "    for i in range(len(switch_type)):\n",
    "        product_switch_sku = switch_type[i].find('div').text\n",
    "        switch_type[i].find('div').decompose() \n",
    "        # print(f\"switch_sku:{product_switch_sku}\\nswitch_name:{switch_type[i].text}\\nswitch_price:{switch_price[i].text}\")\n",
    "        switch_price_dict['switch'].update({\"switch_sku\":product_switch_sku, switch_type[i].text : switch_price[i].text })\n",
    "    \n",
    "    return switch_price_dict\n",
    "\n",
    "def get_product_spec(soup):\n",
    "    spec_table = soup.find('table', class_='v3_specs')\n",
    "    spec_table_field = spec_table.find_all(\"td\", class_='field')\n",
    "    spec_table_value= spec_table.find_all(\"td\", class_='value')\n",
    "    \n",
    "    product_spec = {\n",
    "    \"spec\": {}\n",
    "    }\n",
    "\n",
    "    \n",
    "    for i in range(len(spec_table)): \n",
    "        product_spec['spec'].update({spec_table_field[i].text : spec_table_value[i].text})\n",
    "        \n",
    "    return product_spec\n",
    "\n"
   ]
  },
  {
   "cell_type": "code",
   "execution_count": 99,
   "metadata": {},
   "outputs": [
    {
     "name": "stdout",
     "output_type": "stream",
     "text": [
      "{'spec': {'Brand': 'Ducky', 'Model': 'One 2 Mini', 'Size': '60%', 'Switch Stems': 'MX', 'Physical Layout': 'ANSI', 'Logical Layout': 'US QWERTY', 'Frame Color': 'White', 'Frame Top Material': 'Plastic', 'Frame Bottom Material': 'Plastic', 'Primary LED Color': 'RGB', 'Control LED Color': 'RGB', 'Hotswap Sockets': 'No', 'USB Key Rollover': 'Full', 'Multimedia Keys': 'Yes', 'Switch Mount Type': 'Plate', 'Built in Audio Port': 'No', 'Built in Mic Port': 'No', 'Interface(s)': 'USB-C', 'Windows Compatible': 'Yes', 'Mac Compatible': 'No', 'Linux Compatible': 'Yes', 'Dimensions': '4.25\" x 11.50\" x 1.50\"', 'Weight': '2.00 lbs', 'Cord Length': '56 inches'}}\n"
     ]
    }
   ],
   "source": [
    "product = {\n",
    "    'name':\"\";\n",
    "    \n",
    "}\n",
    "\n",
    "\n",
    "sample_url = \"https://mechanicalkeyboards.com/shop/index.php?l=product_detail&p=5027\"\n",
    "img_url_base = \"https://mechanicalkeyboards.com/shop/\"\n",
    "product_detail_soup = get_soup(sample_url)\n",
    "\n",
    "product_name = product_detail_soup.find(\"h4\", class_=\"name\").text\n",
    "product_sku = product_detail_soup.find('div',class_=\"product-id\").find(\"span\",class_='id').text\n",
    "product_img_url = img_url_base+product_detail_soup.find('div',attrs={\"style\":'text-align: center;'}).find('a')['href']\n",
    "product_switch_table = get_switch_table(product_detail_soup)\n",
    "product_spec_table = get_product_spec(product_detail_soup)\n",
    "\n",
    "print(product_spec_table)\n",
    "\n"
   ]
  },
  {
   "cell_type": "code",
   "execution_count": null,
   "metadata": {},
   "outputs": [],
   "source": []
  },
  {
   "attachments": {},
   "cell_type": "markdown",
   "metadata": {},
   "source": [
    "### FINAL STEP "
   ]
  },
  {
   "cell_type": "code",
   "execution_count": 29,
   "metadata": {},
   "outputs": [],
   "source": [
    "prod_list = []\n",
    "for url in product_url_list[:2]:\n",
    "    product_name = get_tag_detail_one(url, PRODUCT_NAME_TAG)\n",
    "    sku = get_tag_detail_one(url, PRODUCT_SKU_TAG)\n",
    "\n",
    "    switch = get_tag_detail(url, SWITCH_TAG )\n",
    "    price = get_tag_detail(url, PRICE_TAG)\n",
    "    \n",
    "    #remove div tag in switch \n",
    "    for i in range(len(switch)):\n",
    "        switch[i].find('div').decompose() \n",
    "        \n",
    "    switch_list =[switch[i].text for i in range(len(switch))]\n",
    "    switch_price_list = [price[i].text for i in range(len(price))]\n",
    "      \n",
    "    prod = create_product(product_name.text, sku.text, switch_list, switch_price_list)\n",
    "    prod_list.append(prod)\n",
    "\n",
    "#Export list of dict to json\n",
    "with open(\"sample.json\",\"w+\") as f:\n",
    "    json.dump(prod_list,f,indent=4)\n",
    "    \n",
    "    \n",
    "    "
   ]
  },
  {
   "cell_type": "code",
   "execution_count": 27,
   "metadata": {},
   "outputs": [],
   "source": []
  }
 ],
 "metadata": {
  "kernelspec": {
   "display_name": "Python 3",
   "language": "python",
   "name": "python3"
  },
  "language_info": {
   "codemirror_mode": {
    "name": "ipython",
    "version": 3
   },
   "file_extension": ".py",
   "mimetype": "text/x-python",
   "name": "python",
   "nbconvert_exporter": "python",
   "pygments_lexer": "ipython3",
   "version": "3.10.9"
  },
  "orig_nbformat": 4,
  "vscode": {
   "interpreter": {
    "hash": "748fb68ebda08c998a2fcc2365c100e337dd367df8d410b743748fe17d047982"
   }
  }
 },
 "nbformat": 4,
 "nbformat_minor": 2
}
