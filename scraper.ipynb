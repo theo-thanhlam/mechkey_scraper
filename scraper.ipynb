{
 "cells": [
  {
   "cell_type": "code",
   "execution_count": 21,
   "metadata": {},
   "outputs": [
    {
     "name": "stdout",
     "output_type": "stream",
     "text": [
      "Requirement already satisfied: beautifulsoup4 in c:\\users\\phatl\\appdata\\local\\packages\\pythonsoftwarefoundation.python.3.10_qbz5n2kfra8p0\\localcache\\local-packages\\python310\\site-packages (4.11.1)\n",
      "Requirement already satisfied: soupsieve>1.2 in c:\\users\\phatl\\appdata\\local\\packages\\pythonsoftwarefoundation.python.3.10_qbz5n2kfra8p0\\localcache\\local-packages\\python310\\site-packages (from beautifulsoup4) (2.3.2.post1)\n",
      "Requirement already satisfied: requests in c:\\users\\phatl\\appdata\\local\\packages\\pythonsoftwarefoundation.python.3.10_qbz5n2kfra8p0\\localcache\\local-packages\\python310\\site-packages (2.28.2)\n",
      "Requirement already satisfied: idna<4,>=2.5 in c:\\users\\phatl\\appdata\\local\\packages\\pythonsoftwarefoundation.python.3.10_qbz5n2kfra8p0\\localcache\\local-packages\\python310\\site-packages (from requests) (3.4)\n",
      "Requirement already satisfied: urllib3<1.27,>=1.21.1 in c:\\users\\phatl\\appdata\\local\\packages\\pythonsoftwarefoundation.python.3.10_qbz5n2kfra8p0\\localcache\\local-packages\\python310\\site-packages (from requests) (1.26.14)\n",
      "Requirement already satisfied: charset-normalizer<4,>=2 in c:\\users\\phatl\\appdata\\local\\packages\\pythonsoftwarefoundation.python.3.10_qbz5n2kfra8p0\\localcache\\local-packages\\python310\\site-packages (from requests) (3.0.1)\n",
      "Requirement already satisfied: certifi>=2017.4.17 in c:\\users\\phatl\\appdata\\local\\packages\\pythonsoftwarefoundation.python.3.10_qbz5n2kfra8p0\\localcache\\local-packages\\python310\\site-packages (from requests) (2022.12.7)\n"
     ]
    }
   ],
   "source": [
    "! pip install beautifulsoup4\n",
    "! pip install requests"
   ]
  },
  {
   "cell_type": "code",
   "execution_count": 29,
   "metadata": {},
   "outputs": [],
   "source": [
    "from bs4 import BeautifulSoup\n",
    "import requests\n",
    "\n",
    "url_link = \"https://mechanicalkeyboards.com/shop/index.php?l=product_list&c=1\""
   ]
  },
  {
   "cell_type": "code",
   "execution_count": 30,
   "metadata": {},
   "outputs": [],
   "source": [
    "response = requests.get(url_link)\n",
    "html = response.text\n",
    "soup = BeautifulSoup(html,'html.parser')\n"
   ]
  },
  {
   "cell_type": "code",
   "execution_count": 47,
   "metadata": {},
   "outputs": [
    {
     "name": "stdout",
     "output_type": "stream",
     "text": [
      "Name:Ducky One 2 Mini Pure White - RGB LED 60% Double Shot PBT Mechanical Keyboard\n",
      "Url:https://mechanicalkeyboards.com/shop/index.php?l=product_detail&p=5027\n",
      "Image Url: https://mechanicalkeyboards.com/shop/images/products/thumb_5027_thumb_DKON2061ST-USPDWWT7UJ_main.png\n"
     ]
    }
   ],
   "source": [
    "product_soup = soup.select(\"div.product-name a\")\n",
    "image_link = soup.select(\"div.imagebox li a img\")\n",
    "full_image_url = \"https://mechanicalkeyboards.com/shop/\" + image_link[0]['src']\n",
    "\n",
    "product_name = product_soup[0].text\n",
    "product_url = product_soup[0]['href']\n",
    "\n",
    "print(f\"Name:{product_name}\\nUrl:{product_url}\\nImage Url: {full_image_url}\")\n",
    "\n"
   ]
  },
  {
   "cell_type": "code",
   "execution_count": 59,
   "metadata": {},
   "outputs": [
    {
     "name": "stdout",
     "output_type": "stream",
     "text": [
      "Name:Ducky One 2 Mini Pure White - RGB LED 60% Double Shot PBT Mechanical Keyboard\n",
      "Url:https://mechanicalkeyboards.com/shop/index.php?l=product_detail&p=5027\n",
      "Image Url: https://mechanicalkeyboards.com/shop/images/products/thumb_5027_thumb_DKON2061ST-USPDWWT7UJ_main.png\n",
      "\n",
      "Name:Ducky One 2 Mini v2 RGB LED  60% Double Shot PBT Mechanical Keyboard\n",
      "Url:https://mechanicalkeyboards.com/shop/index.php?l=product_detail&p=4322\n",
      "Image Url: https://mechanicalkeyboards.com/shop/images/products/thumb_5027_thumb_DKON1861ST-USPDWWT1_2.jpg\n",
      "\n",
      "Name:Ducky One 2 SF RGB LED  65% Double Shot PBT Mechanical Keyboard\n",
      "Url:https://mechanicalkeyboards.com/shop/index.php?l=product_detail&p=5461\n",
      "Image Url: https://mechanicalkeyboards.com/shop/images/products/thumb_5027_thumb_DKON1861ST-USPDWWT1_3.jpg\n",
      "\n",
      "Name:Ducky Mecha Mini v2 RGB LED  60% Double Shot PBT Mechanical Keyboard\n",
      "Url:https://mechanicalkeyboards.com/shop/index.php?l=product_detail&p=5593\n",
      "Image Url: https://mechanicalkeyboards.com/shop/images/products/thumb_5027_thumb_DKON1861ST-USPDWWT1_4.jpg\n",
      "\n",
      "Name:Ducky One 2 RGB TKL RGB LED  Double Shot PBT Mechanical Keyboard\n",
      "Url:https://mechanicalkeyboards.com/shop/index.php?l=product_detail&p=4284\n",
      "Image Url: https://mechanicalkeyboards.com/shop/images/products/thumb_5027_thumb_DKON1861ST-USPDWWT1_5.jpg\n",
      "\n",
      "Name:Ducky One 2 SF RGB Pure White RGB LED  65% Double Shot PBT Mechanical Keyboard\n",
      "Url:https://mechanicalkeyboards.com/shop/index.php?l=product_detail&p=5800\n",
      "Image Url: https://mechanicalkeyboards.com/shop/images/products/thumb_5027_thumb_DKON1861ST-USPDWWT1_6.jpg\n",
      "\n",
      "Name:Ducky x Varmilo MIYA Pro Sakura Pink LED 65% Dye Sub PBT Mechanical Keyboard\n",
      "Url:https://mechanicalkeyboards.com/shop/index.php?l=product_detail&p=3521\n",
      "Image Url: https://mechanicalkeyboards.com/shop/images/products/thumb_5027_thumb_DKON1861ST-USPDWWT1_7.jpg\n",
      "\n",
      "Name:Ducky x MK Frozen Llama Mecha Mini v2 RGB LED 60% Double Shot PBT Mechanical Keyboard\n",
      "Url:https://mechanicalkeyboards.com/shop/index.php?l=product_detail&p=5804\n",
      "Image Url: https://mechanicalkeyboards.com/shop/images/products/thumb_5027_thumb_DKON1861ST-USPDWWT1_1.png\n",
      "\n",
      "Name:Ducky One 2 RGB LED  Double Shot PBT Mechanical Keyboard\n",
      "Url:https://mechanicalkeyboards.com/shop/index.php?l=product_detail&p=4283\n",
      "Image Url: https://mechanicalkeyboards.com/shop/images/products/thumb_5027_thumb_DKON1861ST-USPDWWT1_11.jpg\n",
      "\n",
      "Name:Ducky One 2 RGB TKL Pure White RGB LED  Double Shot PBT Mechanical Keyboard\n",
      "Url:https://mechanicalkeyboards.com/shop/index.php?l=product_detail&p=5801\n",
      "Image Url: https://mechanicalkeyboards.com/shop/images/products/thumb_5027_thumb_DKON2061ST-USPDWWT1_1.jpg\n",
      "\n",
      "Name:Ducky Shine 7 Blackout - MK Exclusive First Release - RGB LED Double Shot PBT Mechanical Keyboard\n",
      "Url:https://mechanicalkeyboards.com/shop/index.php?l=product_detail&p=4332\n",
      "Image Url: https://mechanicalkeyboards.com/shop/images/products/thumb_5027_thumb_DKON2061ST-USPDWWT1_2.jpg\n",
      "\n",
      "Name:Vortex Race 3 TKL Dye Sub PBT Mechanical Keyboard\n",
      "Url:https://mechanicalkeyboards.com/shop/index.php?l=product_detail&p=3917\n",
      "Image Url: https://mechanicalkeyboards.com/shop/images/products/thumb_4322_thumb_DKON1861ST-USPDAZT1_main.png\n",
      "\n",
      "Name:Ducky Shine 7 Gunmetal RGB LED  Double Shot PBT Mechanical Keyboard\n",
      "Url:https://mechanicalkeyboards.com/shop/index.php?l=product_detail&p=4333\n",
      "Image Url: https://mechanicalkeyboards.com/shop/images/products/thumb_4322_thumb_DKON1861ST-USPDAZT1_1.png\n",
      "\n",
      "Name:Ducky One 2 Skyline TKL Double Shot PBT Mechanical Keyboard\n",
      "Url:https://mechanicalkeyboards.com/shop/index.php?l=product_detail&p=3619\n",
      "Image Url: https://mechanicalkeyboards.com/shop/images/products/thumb_4322_thumb_DKON1861ST-USPDAZT1_2.png\n",
      "\n",
      "Name:Ducky x Varmilo MIYA Pro Koi 65% Dye Sub PBT Mechanical Keyboard\n",
      "Url:https://mechanicalkeyboards.com/shop/index.php?l=product_detail&p=5402\n",
      "Image Url: https://mechanicalkeyboards.com/shop/images/products/thumb_4322_thumb_DKON1861ST-USPDAZT1_3.png\n",
      "\n"
     ]
    }
   ],
   "source": [
    "\n",
    "for (name,url) in zip(product_soup, image_link):\n",
    "    product_name = name.text\n",
    "    product_url = name['href']\n",
    "    full_image_url = \"https://mechanicalkeyboards.com/shop/\" + url['src']\n",
    "    print(f\"Name:{product_name}\\nUrl:{product_url}\\nImage Url: {full_image_url}\\n\")"
   ]
  }
 ],
 "metadata": {
  "kernelspec": {
   "display_name": "Python 3",
   "language": "python",
   "name": "python3"
  },
  "language_info": {
   "codemirror_mode": {
    "name": "ipython",
    "version": 3
   },
   "file_extension": ".py",
   "mimetype": "text/x-python",
   "name": "python",
   "nbconvert_exporter": "python",
   "pygments_lexer": "ipython3",
   "version": "3.10.9"
  },
  "orig_nbformat": 4,
  "vscode": {
   "interpreter": {
    "hash": "748fb68ebda08c998a2fcc2365c100e337dd367df8d410b743748fe17d047982"
   }
  }
 },
 "nbformat": 4,
 "nbformat_minor": 2
}
