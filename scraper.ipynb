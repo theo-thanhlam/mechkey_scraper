{
 "cells": [
  {
   "cell_type": "code",
   "execution_count": 143,
   "metadata": {},
   "outputs": [],
   "source": [
    "# ! pip install beautifulsoup4\n",
    "# ! pip install requests"
   ]
  },
  {
   "attachments": {},
   "cell_type": "markdown",
   "metadata": {},
   "source": [
    "Update:\n",
    "+ Finish scrap the product listing page\n",
    "+ Know where to find the SKU \n",
    "+ Need to scrap available switches and price of each product"
   ]
  },
  {
   "cell_type": "code",
   "execution_count": 163,
   "metadata": {},
   "outputs": [],
   "source": [
    "from bs4 import BeautifulSoup\n",
    "import requests\n",
    "import pandas as pd\n",
    "import json\n",
    "# page_no = 1\n",
    "# url_link = \"https://mechanicalkeyboards.com/shop/index.php?pg=\"+str(page_no)+\"&l=product_list&c=1&show=100\""
   ]
  },
  {
   "attachments": {},
   "cell_type": "markdown",
   "metadata": {},
   "source": [
    "# Shop listing page"
   ]
  },
  {
   "cell_type": "code",
   "execution_count": 3,
   "metadata": {},
   "outputs": [],
   "source": [
    "def get_soup(url_link):\n",
    "    return BeautifulSoup(requests.get(url_link).text, 'html.parser')\n"
   ]
  },
  {
   "cell_type": "code",
   "execution_count": 9,
   "metadata": {},
   "outputs": [],
   "source": [
    "def get_number_of_page():\n",
    "    soup = get_soup(\"https://mechanicalkeyboards.com/shop/index.php?pg=1&l=product_list&c=1&show=100\")\n",
    "    no_page = soup.select_one('div.blog-pagination span')\n",
    "    return no_page.text.split()[-1]\n",
    "\n"
   ]
  },
  {
   "cell_type": "code",
   "execution_count": 10,
   "metadata": {},
   "outputs": [],
   "source": [
    "PRODUCT_SOUP_TAG = \"div.product-name a\"\n",
    "IMAGE_URL_TAG = 'div.imagebox li a img'\n",
    "\n",
    "product_name_list = []\n",
    "product_url_list = []\n",
    "product_img_url_list = []\n",
    "\n",
    "#Get the last page of website (APPLY FOR THIS URL ONLY)\n",
    "#\"https://mechanicalkeyboards.com/shop/index.php?pg=1&l=product_list&c=1&show=100\"\n",
    "no_page = int(get_number_of_page())\n",
    "\n",
    "for i in range(1,no_page+1):\n",
    "        url_link = \"https://mechanicalkeyboards.com/shop/index.php?pg=\"+str(i)+\"&l=product_list&c=1&show=100\"\n",
    "        product_list_soup = get_soup(url_link)\n",
    "        product_soup = product_list_soup.select(PRODUCT_SOUP_TAG)\n",
    "        image_link = product_list_soup.select(IMAGE_URL_TAG)\n",
    "        for (name,url) in zip(product_soup, image_link):\n",
    "                #Get element\n",
    "                product_name = name.text\n",
    "                product_url = name['href']\n",
    "                full_image_url = \"https://mechanicalkeyboards.com/shop/\" + url['src']\n",
    "                \n",
    "                #Add to list\n",
    "                product_name_list.append(product_name)\n",
    "                product_url_list.append(product_url)\n",
    "                product_img_url_list.append(full_image_url)\n",
    "\n"
   ]
  },
  {
   "attachments": {},
   "cell_type": "markdown",
   "metadata": {},
   "source": [
    "# Product Detail Page\n"
   ]
  },
  {
   "cell_type": "code",
   "execution_count": null,
   "metadata": {},
   "outputs": [],
   "source": [
    "PRODUCT_NAME_TAG = 'div.product-detail h4'\n",
    "PRODUCT_SKU_TAG = 'div.product-id span'\n",
    "SWITCH_TAG = 'table.edition_switch_list tr td.switch'\n",
    "PRICE_TAG = 'table.edition_switch_list tr td.price'\n",
    "\n",
    "def get_tag_detail_one(url,tag):\n",
    "    return get_soup(url).select_one(tag)\n",
    "\n",
    "def get_tag_detail(url,tag):\n",
    "    return get_soup(url).select(tag)\n",
    "\n",
    "def get_switch_table_len(url):\n",
    "    return len(get_tag_detail(url, 'table.edition_switch_list tr'))"
   ]
  },
  {
   "cell_type": "code",
   "execution_count": 161,
   "metadata": {},
   "outputs": [],
   "source": [
    "product_name_detail = []\n",
    "product_sku = []\n",
    "#sample product detail page\n",
    "sample_product_url = product_url_list[1]\n",
    "\n",
    "product_name = get_tag_detail_one(sample_product_url, PRODUCT_NAME_TAG)\n",
    "sku = get_tag_detail_one(sample_product_url, PRODUCT_SKU_TAG)\n",
    "\n",
    "switch = get_tag_detail(sample_product_url, SWITCH_TAG )\n",
    "price = get_tag_detail(sample_product_url, PRICE_TAG)\n",
    "\n",
    "#remove div tag in switch \n",
    "for i in range(len(switch)):\n",
    "    switch[i].find('div').decompose() "
   ]
  },
  {
   "cell_type": "code",
   "execution_count": 162,
   "metadata": {},
   "outputs": [
    {
     "name": "stdout",
     "output_type": "stream",
     "text": [
      "Keyboard:Ducky One 2 Mini v2 RGB LED  60% Double Shot PBT Mechanical Keyboard\n",
      "SKU:DKON2061ST-_USPDAZT_\n",
      "Switch selection:\n",
      "Cherry MX Black:$99.00\n",
      "Cherry MX Brown:$99.00\n",
      "Cherry MX Blue:$99.00\n",
      "Cherry MX Red:$99.00\n",
      "Cherry MX Silver:$99.00\n",
      "Gateron Yellow:$99.00\n",
      "Gateron Red:$99.00\n",
      "Gateron Brown:$99.00\n",
      "Kailh Speed Pro Burgundy:$99.00\n",
      "Kailh Speed Copper:$99.00\n",
      "Kailh BOX White:$99.00\n",
      "Kailh BOX Brown:$99.00\n",
      "Kailh BOX Red:$99.00\n",
      "Kailh BOX Thick Jade:$104.00\n",
      "Kailh BOX Silent Pink:$104.00\n",
      "Cherry MX Silent Black:$104.00\n",
      "Kailh BOX Navy:$104.00\n",
      "Cherry MX Silent Red:$104.00\n",
      "Kailh Polia:$104.00\n",
      "Gateron Silent Brown:$104.00\n",
      "TTC Gold Pink:$109.00\n",
      "TTC Bluish White:$109.00\n",
      "TTC Heart:$109.00\n"
     ]
    }
   ],
   "source": [
    "print(f\"Keyboard:{product_name.text}\\nSKU:{sku.text}\")\n",
    "print(\"Switch selection:\")\n",
    "for i in range(len(switch)):\n",
    "    print(f\"{switch[i].text}:{price[i].text}\")"
   ]
  },
  {
   "cell_type": "code",
   "execution_count": 167,
   "metadata": {},
   "outputs": [],
   "source": [
    "switch_list =[switch[i].text for i in range(len(switch))]\n",
    "switch_price_list = [price[i].text for i in range(len(price))]\n"
   ]
  },
  {
   "cell_type": "code",
   "execution_count": 175,
   "metadata": {},
   "outputs": [
    {
     "name": "stdout",
     "output_type": "stream",
     "text": [
      "{\"name\": \"Ducky One 2 Mini v2 RGB LED  60% Double Shot PBT Mechanical Keyboard\", \"sku\": \"DKON2061ST-_USPDAZT_\", \"switch\": [\"Cherry MX Black\", \"Cherry MX Brown\", \"Cherry MX Blue\", \"Cherry MX Red\", \"Cherry MX Silver\", \"Gateron Yellow\", \"Gateron Red\", \"Gateron Brown\", \"Kailh Speed Pro Burgundy\", \"Kailh Speed Copper\", \"Kailh BOX White\", \"Kailh BOX Brown\", \"Kailh BOX Red\", \"Kailh BOX Thick Jade\", \"Kailh BOX Silent Pink\", \"Cherry MX Silent Black\", \"Kailh BOX Navy\", \"Cherry MX Silent Red\", \"Kailh Polia\", \"Gateron Silent Brown\", \"TTC Gold Pink\", \"TTC Bluish White\", \"TTC Heart\"], \"switch_price\": [\"$99.00\", \"$99.00\", \"$99.00\", \"$99.00\", \"$99.00\", \"$99.00\", \"$99.00\", \"$99.00\", \"$99.00\", \"$99.00\", \"$99.00\", \"$99.00\", \"$99.00\", \"$104.00\", \"$104.00\", \"$104.00\", \"$104.00\", \"$104.00\", \"$104.00\", \"$104.00\", \"$109.00\", \"$109.00\", \"$109.00\"]}\n",
      "<class 'str'>\n"
     ]
    }
   ],
   "source": [
    "def create_product(name, sku, switch, switch_price):\n",
    "    product = {\"name\":name, \"sku\":sku,\"switch\":switch,\"switch_price\":switch_price}\n",
    "    return product\n",
    "\n",
    "ducky1 = create_product(product_name.text, sku.text, switch_list, switch_price_list)\n",
    "\n",
    "\n"
   ]
  }
 ],
 "metadata": {
  "kernelspec": {
   "display_name": "Python 3",
   "language": "python",
   "name": "python3"
  },
  "language_info": {
   "codemirror_mode": {
    "name": "ipython",
    "version": 3
   },
   "file_extension": ".py",
   "mimetype": "text/x-python",
   "name": "python",
   "nbconvert_exporter": "python",
   "pygments_lexer": "ipython3",
   "version": "3.10.4"
  },
  "orig_nbformat": 4,
  "vscode": {
   "interpreter": {
    "hash": "aee8b7b246df8f9039afb4144a1f6fd8d2ca17a180786b69acc140d282b71a49"
   }
  }
 },
 "nbformat": 4,
 "nbformat_minor": 2
}
