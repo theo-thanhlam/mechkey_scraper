{
 "cells": [
  {
   "cell_type": "code",
   "execution_count": 52,
   "metadata": {},
   "outputs": [],
   "source": [
    "# ! pip install beautifulsoup4\n",
    "# ! pip install requests"
   ]
  },
  {
   "cell_type": "code",
   "execution_count": 53,
   "metadata": {},
   "outputs": [],
   "source": [
    "from bs4 import BeautifulSoup\n",
    "import requests\n",
    "page_no = 1\n",
    "url_link = \"https://mechanicalkeyboards.com/shop/index.php?pg=\"+str(page_no)+\"&l=product_list&c=1&show=100\""
   ]
  },
  {
   "cell_type": "code",
   "execution_count": 54,
   "metadata": {},
   "outputs": [],
   "source": [
    "def get_soup(url_link):\n",
    "    return BeautifulSoup(requests.get(url_link).text, 'html.parser')\n",
    "\n",
    "\n",
    "soup = get_soup(url_link)\n"
   ]
  },
  {
   "cell_type": "code",
   "execution_count": 55,
   "metadata": {},
   "outputs": [
    {
     "name": "stdout",
     "output_type": "stream",
     "text": [
      "Name:Ducky One 2 Mini Pure White - RGB LED 60% Double Shot PBT Mechanical Keyboard\n",
      "Url:https://mechanicalkeyboards.com/shop/index.php?l=product_detail&p=5027\n",
      "Image Url: https://mechanicalkeyboards.com/shop/images/products/thumb_5027_thumb_DKON2061ST-USPDWWT7UJ_main.png\n"
     ]
    }
   ],
   "source": [
    "product_soup = soup.select(\"div.product-name a\")\n",
    "image_link = soup.select(\"div.imagebox li a img\")\n",
    "full_image_url = \"https://mechanicalkeyboards.com/shop/\" + image_link[0]['src']\n",
    "\n",
    "product_name = product_soup[0].text\n",
    "product_url = product_soup[0]['href']\n",
    "\n",
    "print(f\"Name:{product_name}\\nUrl:{product_url}\\nImage Url: {full_image_url}\")\n",
    "\n"
   ]
  },
  {
   "cell_type": "code",
   "execution_count": 56,
   "metadata": {},
   "outputs": [],
   "source": [
    "product_name_list = []\n",
    "product_url_list = []\n",
    "product_img_url_list = []\n",
    "product_id_list = []\n",
    "product_id = 1\n",
    "\n",
    "for (name,url) in zip(product_soup, image_link):\n",
    "    product_name = name.text\n",
    "    product_url = name['href']\n",
    "    full_image_url = \"https://mechanicalkeyboards.com/shop/\" + url['src']\n",
    "    \n",
    "    product_id_list.append(product_id)\n",
    "    product_name_list.append(product_name)\n",
    "    product_url_list.append(product_url)\n",
    "    product_img_url_list.append(full_image_url)\n",
    "    product_id+= 1\n"
   ]
  },
  {
   "cell_type": "code",
   "execution_count": 65,
   "metadata": {},
   "outputs": [
    {
     "name": "stdout",
     "output_type": "stream",
     "text": [
      "DKON2061ST-_USPDWWT_\n"
     ]
    }
   ],
   "source": [
    "def get_sku(product_url):\n",
    "    pd_soup = get_soup(product_url)\n",
    "    sku_id = pd_soup.select_one('div.product-id span')\n",
    "    return sku_id.text\n",
    "\n",
    "sku = get_sku(product_url_list[0])\n",
    "print(sku)\n"
   ]
  }
 ],
 "metadata": {
  "kernelspec": {
   "display_name": "Python 3",
   "language": "python",
   "name": "python3"
  },
  "language_info": {
   "codemirror_mode": {
    "name": "ipython",
    "version": 3
   },
   "file_extension": ".py",
   "mimetype": "text/x-python",
   "name": "python",
   "nbconvert_exporter": "python",
   "pygments_lexer": "ipython3",
   "version": "3.10.9"
  },
  "orig_nbformat": 4,
  "vscode": {
   "interpreter": {
    "hash": "748fb68ebda08c998a2fcc2365c100e337dd367df8d410b743748fe17d047982"
   }
  }
 },
 "nbformat": 4,
 "nbformat_minor": 2
}
